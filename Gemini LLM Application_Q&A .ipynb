{
 "cells": [
  {
   "cell_type": "code",
   "execution_count": 1,
   "id": "e959e4c4",
   "metadata": {},
   "outputs": [
    {
     "data": {
      "text/plain": [
       "'/Users/surajpawar/Desktop/Langchain Gen AI Tutorial - 6 End to End Projects using OpenAI, Google Gemini Pro, LLAMA2'"
      ]
     },
     "execution_count": 1,
     "metadata": {},
     "output_type": "execute_result"
    }
   ],
   "source": [
    "pwd"
   ]
  },
  {
   "cell_type": "code",
   "execution_count": 2,
   "id": "7de17baa",
   "metadata": {},
   "outputs": [
    {
     "data": {
      "text/plain": [
       "False"
      ]
     },
     "execution_count": 2,
     "metadata": {},
     "output_type": "execute_result"
    }
   ],
   "source": [
    "from dotenv import load_dotenv\n",
    "load_dotenv()"
   ]
  },
  {
   "cell_type": "code",
   "execution_count": 3,
   "id": "089a5a0c",
   "metadata": {},
   "outputs": [],
   "source": [
    "import streamlit as st\n",
    "import os\n",
    "import google.generativeai as genai"
   ]
  },
  {
   "cell_type": "code",
   "execution_count": 4,
   "id": "3cdd3870",
   "metadata": {},
   "outputs": [],
   "source": [
    "\n",
    "genai.configure(api_key=os.getenv(\"GOOGLE_API_KEY\"))\n",
    "\n",
    "## function to load gemini pro model and get response\n",
    "\n",
    "model = genai.GenerativeModel(\"gemini-pro\")\n",
    "chat = model.start_chat(history=[])"
   ]
  },
  {
   "cell_type": "code",
   "execution_count": 5,
   "id": "30d21f36",
   "metadata": {},
   "outputs": [],
   "source": [
    "def get_gemini_response(question):\n",
    "    response = chat.send_message(question, stream=True)\n",
    "    return response"
   ]
  },
  {
   "cell_type": "code",
   "execution_count": 6,
   "id": "587b7822",
   "metadata": {},
   "outputs": [
    {
     "name": "stderr",
     "output_type": "stream",
     "text": [
      "2024-07-03 20:59:14.715 \n",
      "  \u001b[33m\u001b[1mWarning:\u001b[0m to view this Streamlit app on a browser, run it with the following\n",
      "  command:\n",
      "\n",
      "    streamlit run /Applications/anaconda3/lib/python3.11/site-packages/ipykernel_launcher.py [ARGUMENTS]\n"
     ]
    },
    {
     "data": {
      "text/plain": [
       "DeltaGenerator()"
      ]
     },
     "execution_count": 6,
     "metadata": {},
     "output_type": "execute_result"
    }
   ],
   "source": [
    "st.set_page_config(page_title = \"Q&A Demo\")\n",
    "\n",
    "st.header(\"Gemini LLM Application\")"
   ]
  },
  {
   "cell_type": "code",
   "execution_count": 9,
   "id": "2d15619a",
   "metadata": {},
   "outputs": [],
   "source": [
    "## initialize session state for chat history if it does not exist\n",
    "\n",
    "if 'chat_history' not in st.session_state:\n",
    "    st.session_state[\"chat_history\"] = []\n",
    "    \n",
    "input = st.text_input(\"Input: \", key = \"input\")\n",
    "submit = st.button(\"Ask the question\")\n",
    "\n",
    "if submit and input:\n",
    "    response = get_gemini_response(input)\n",
    "    ## add user query and response to session chat history\n",
    "    st.session_state[\"chat_history\"].append((\"You\", input))\n",
    "    st.subheader(\"The response is\")\n",
    "    for chunk in response: \n",
    "        st.write(chunk.text)\n",
    "        st.session_state[\"chat_history\"].append((\"Bot\", chunk.text))"
   ]
  },
  {
   "cell_type": "code",
   "execution_count": 8,
   "id": "57e2dcd9",
   "metadata": {},
   "outputs": [],
   "source": [
    "## add user query and response to session chat history"
   ]
  },
  {
   "cell_type": "code",
   "execution_count": 10,
   "id": "8e9515e2",
   "metadata": {},
   "outputs": [],
   "source": [
    "st.subheader(\"The chat history is\")\n",
    "\n",
    "for role, text in st.session_state['chat_history']:\n",
    "    st.write(f\"{role}:{text}\")"
   ]
  },
  {
   "cell_type": "code",
   "execution_count": null,
   "id": "2caf9d2c",
   "metadata": {},
   "outputs": [],
   "source": []
  }
 ],
 "metadata": {
  "kernelspec": {
   "display_name": "Python 3 (ipykernel)",
   "language": "python",
   "name": "python3"
  },
  "language_info": {
   "codemirror_mode": {
    "name": "ipython",
    "version": 3
   },
   "file_extension": ".py",
   "mimetype": "text/x-python",
   "name": "python",
   "nbconvert_exporter": "python",
   "pygments_lexer": "ipython3",
   "version": "3.11.5"
  }
 },
 "nbformat": 4,
 "nbformat_minor": 5
}
